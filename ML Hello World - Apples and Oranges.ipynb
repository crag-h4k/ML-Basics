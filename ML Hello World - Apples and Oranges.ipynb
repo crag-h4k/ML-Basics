{
 "cells": [
  {
   "cell_type": "code",
   "execution_count": 3,
   "metadata": {},
   "outputs": [],
   "source": [
    "import sklearn as sk\n",
    "from sklearn import tree"
   ]
  },
  {
   "cell_type": "code",
   "execution_count": 11,
   "metadata": {},
   "outputs": [],
   "source": [
    "##TRAINING DATA\n",
    "# [weight, bumpy=0,smooth=1]\n",
    "features = [[140,1],[130,1],[150,0],[170,0]]\n",
    "\n",
    "#[apple=0 orange=1 ]\n",
    "labels = [0,0,1,1]\n",
    "\n",
    "### Use data to train the classifer on which is a orange which is an apple\n",
    "clf = tree.DecisionTreeClassifier()\n",
    "\n",
    "#training algorith here\n",
    "#fit() = find patterns in data\n",
    "clf = clf.fit(features, labels)"
   ]
  },
  {
   "cell_type": "code",
   "execution_count": 18,
   "metadata": {},
   "outputs": [
    {
     "name": "stdout",
     "output_type": "stream",
     "text": [
      "orange\n"
     ]
    }
   ],
   "source": [
    "output = clf.predict([[150, 0]])\n",
    "\n",
    "if output == [1]:\n",
    "    print(\"orange\")\n",
    "elif output == [0]:\n",
    "    print(\"apple\")\n",
    "    "
   ]
  },
  {
   "cell_type": "code",
   "execution_count": null,
   "metadata": {},
   "outputs": [],
   "source": [
    "#it works! :) "
   ]
  }
 ],
 "metadata": {
  "kernelspec": {
   "display_name": "Python 3",
   "language": "python",
   "name": "python3"
  },
  "language_info": {
   "codemirror_mode": {
    "name": "ipython",
    "version": 3
   },
   "file_extension": ".py",
   "mimetype": "text/x-python",
   "name": "python",
   "nbconvert_exporter": "python",
   "pygments_lexer": "ipython3",
   "version": "3.6.4"
  }
 },
 "nbformat": 4,
 "nbformat_minor": 2
}
